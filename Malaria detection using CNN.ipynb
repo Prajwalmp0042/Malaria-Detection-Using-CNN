{
 "cells": [
  {
   "cell_type": "code",
   "execution_count": 1,
   "id": "46128a2a",
   "metadata": {
    "_cell_guid": "b1076dfc-b9ad-4769-8c92-a6c4dae69d19",
    "_uuid": "8f2839f25d086af736a60e9eeb907d3b93b6e0e5",
    "execution": {
     "iopub.execute_input": "2022-04-20T14:06:39.000449Z",
     "iopub.status.busy": "2022-04-20T14:06:38.999651Z",
     "iopub.status.idle": "2022-04-20T14:06:47.493335Z",
     "shell.execute_reply": "2022-04-20T14:06:47.492210Z"
    },
    "papermill": {
     "duration": 8.521213,
     "end_time": "2022-04-20T14:06:47.496226",
     "exception": false,
     "start_time": "2022-04-20T14:06:38.975013",
     "status": "completed"
    },
    "tags": []
   },
   "outputs": [],
   "source": [
    "import numpy as np # linear algebra\n",
    "import pandas as pd # data processing, CSV file I/O (e.g. pd.read_csv)\n",
    "import os\n",
    "import glob\n",
    "import cv2\n",
    "import seaborn as sns\n",
    "from skimage.filters import sobel\n",
    "import matplotlib.pyplot as plt\n",
    "\n",
    "import tensorflow as tf\n",
    "from tensorflow.keras import layers,models\n",
    "from keras.models import model_from_json\n",
    "from keras.models import load_model\n",
    "\n",
    "# This Python 3 environment comes with many helpful analytics libraries installed\n",
    "# It is defined by the kaggle/python Docker image: https://github.com/kaggle/docker-python\n",
    "# For example, here's several helpful packages to load\n",
    "\n",
    "# import numpy as np # linear algebra\n",
    "# import pandas as pd # data processing, CSV file I/O (e.g. pd.read_csv)\n",
    "\n",
    "# Input data files are available in the read-only \"../input/\" directory\n",
    "# For example, running this (by clicking run or pressing Shift+Enter) will list all files under the input directory\n",
    "\n",
    "# import os\n",
    "# for dirname, _, filenames in os.walk('/kaggle/input'):\n",
    "#     for filename in filenames:\n",
    "#         print(os.path.join(dirname, filename))\n",
    "\n",
    "# You can write up to 20GB to the current directory (/kaggle/working/) that gets preserved as output when you create a version using \"Save & Run All\" \n",
    "# You can also write temporary files to /kaggle/temp/, but they won't be saved outside of the current session"
   ]
  },
  {
   "cell_type": "code",
   "execution_count": 2,
   "id": "34f4dbb3",
   "metadata": {
    "execution": {
     "iopub.execute_input": "2022-04-20T14:06:47.539585Z",
     "iopub.status.busy": "2022-04-20T14:06:47.539315Z",
     "iopub.status.idle": "2022-04-20T14:06:47.543108Z",
     "shell.execute_reply": "2022-04-20T14:06:47.542358Z"
    },
    "papermill": {
     "duration": 0.02772,
     "end_time": "2022-04-20T14:06:47.545158",
     "exception": false,
     "start_time": "2022-04-20T14:06:47.517438",
     "status": "completed"
    },
    "tags": []
   },
   "outputs": [],
   "source": [
    "#resizing image\n",
    "size = 128"
   ]
  },
  {
   "cell_type": "code",
   "execution_count": 3,
   "id": "4dcffe3a",
   "metadata": {
    "execution": {
     "iopub.execute_input": "2022-04-20T14:06:47.589014Z",
     "iopub.status.busy": "2022-04-20T14:06:47.588407Z",
     "iopub.status.idle": "2022-04-20T14:06:51.021010Z",
     "shell.execute_reply": "2022-04-20T14:06:51.019992Z"
    },
    "papermill": {
     "duration": 3.457568,
     "end_time": "2022-04-20T14:06:51.023484",
     "exception": false,
     "start_time": "2022-04-20T14:06:47.565916",
     "status": "completed"
    },
    "tags": []
   },
   "outputs": [],
   "source": [
    "#Capture images and labels into array\n",
    "#Start by creating empty lists\n",
    "\n",
    "train_images = []\n",
    "train_labels = []\n",
    "\n",
    "# for directory_path in glob.glob(\"/kaggle/input/malaria-detection-dataset/Dataset/Train/*\"):\n",
    "#     label = directory_path.split(\"/\")[-1]\n",
    "#     #print(label)\n",
    "#     for img_path in glob.glob(os.path.join(directory_path,\"*.jpg\")):\n",
    "#         print(img_path)\n",
    "\n",
    "\n",
    "for directory_path, _, filenames in os.walk('/kaggle/input/malaria-detection-dataset/Dataset/Train/'):\n",
    "    label = directory_path.split(\"/\")[-1]\n",
    "    #print(label)\n",
    "    for filename in filenames:\n",
    "        img_path = os.path.join(directory_path, filename)\n",
    "        #print(img_path)\n",
    "        \n",
    "        img = cv2.imread(img_path,cv2.IMREAD_COLOR)\n",
    "        img = cv2.resize(img,(size,size))\n",
    "        #img = cv2.cvtColor(img,cv2.COLOR_RGB2BGR)\n",
    "        train_images.append(img)\n",
    "        train_labels.append(label)\n",
    "\n",
    "train_images = np.array(train_images)\n",
    "train_labels = np.array(train_labels)"
   ]
  },
  {
   "cell_type": "code",
   "execution_count": 4,
   "id": "2f855d9b",
   "metadata": {
    "execution": {
     "iopub.execute_input": "2022-04-20T14:06:51.069241Z",
     "iopub.status.busy": "2022-04-20T14:06:51.068949Z",
     "iopub.status.idle": "2022-04-20T14:06:52.105067Z",
     "shell.execute_reply": "2022-04-20T14:06:52.104135Z"
    },
    "papermill": {
     "duration": 1.063134,
     "end_time": "2022-04-20T14:06:52.107613",
     "exception": false,
     "start_time": "2022-04-20T14:06:51.044479",
     "status": "completed"
    },
    "tags": []
   },
   "outputs": [],
   "source": [
    "#Do the same for test images\n",
    "\n",
    "test_images = []\n",
    "test_labels = []\n",
    "\n",
    "for directory_path, _, filenames in os.walk('/kaggle/input/malaria-detection-dataset/Dataset/Test/'):\n",
    "    label = directory_path.split(\"/\")[-1]\n",
    "    #print(label)\n",
    "    for filename in filenames:\n",
    "        img_path = os.path.join(directory_path, filename)\n",
    "        #print(img_path)\n",
    "        \n",
    "        img = cv2.imread(img_path,cv2.IMREAD_COLOR)\n",
    "        img = cv2.resize(img,(size,size))\n",
    "        #img = cv2.cvtColor(img,cv2.COLOR_RGB2BGR)\n",
    "        test_images.append(img)\n",
    "        test_labels.append(label)\n",
    "\n",
    "test_images = np.array(test_images)\n",
    "test_labels = np.array(test_labels)"
   ]
  },
  {
   "cell_type": "code",
   "execution_count": 5,
   "id": "210f7fd3",
   "metadata": {
    "execution": {
     "iopub.execute_input": "2022-04-20T14:06:52.158593Z",
     "iopub.status.busy": "2022-04-20T14:06:52.158322Z",
     "iopub.status.idle": "2022-04-20T14:06:52.307158Z",
     "shell.execute_reply": "2022-04-20T14:06:52.306141Z"
    },
    "papermill": {
     "duration": 0.174824,
     "end_time": "2022-04-20T14:06:52.309724",
     "exception": false,
     "start_time": "2022-04-20T14:06:52.134900",
     "status": "completed"
    },
    "tags": []
   },
   "outputs": [],
   "source": [
    "#Encode labels from text (folder_names) to integers\n",
    "from sklearn import preprocessing\n",
    "le = preprocessing.LabelEncoder()\n",
    "le.fit(test_labels)\n",
    "test_labels_encoded = le.transform(test_labels)\n",
    "le.fit(train_labels)\n",
    "train_labels_encoded = le.transform(train_labels)"
   ]
  },
  {
   "cell_type": "code",
   "execution_count": 6,
   "id": "0e4a0e75",
   "metadata": {
    "execution": {
     "iopub.execute_input": "2022-04-20T14:06:52.352989Z",
     "iopub.status.busy": "2022-04-20T14:06:52.352725Z",
     "iopub.status.idle": "2022-04-20T14:06:52.467867Z",
     "shell.execute_reply": "2022-04-20T14:06:52.466677Z"
    },
    "papermill": {
     "duration": 0.140512,
     "end_time": "2022-04-20T14:06:52.471017",
     "exception": false,
     "start_time": "2022-04-20T14:06:52.330505",
     "status": "completed"
    },
    "tags": []
   },
   "outputs": [],
   "source": [
    "#Split data into test and train datasets\n",
    "\n",
    "x_train,y_train,x_test,y_test = train_images,train_labels_encoded,test_images,test_labels_encoded\n",
    "\n",
    "#Normalize pixel value between 0 and 1\n",
    "\n",
    "x_train,x_test = x_train/255.0, x_test/255.0"
   ]
  },
  {
   "cell_type": "code",
   "execution_count": null,
   "id": "5e679595",
   "metadata": {
    "papermill": {
     "duration": 0.020415,
     "end_time": "2022-04-20T14:06:52.512357",
     "exception": false,
     "start_time": "2022-04-20T14:06:52.491942",
     "status": "completed"
    },
    "tags": []
   },
   "outputs": [],
   "source": []
  },
  {
   "cell_type": "code",
   "execution_count": 7,
   "id": "64f32e53",
   "metadata": {
    "execution": {
     "iopub.execute_input": "2022-04-20T14:06:52.556410Z",
     "iopub.status.busy": "2022-04-20T14:06:52.556112Z",
     "iopub.status.idle": "2022-04-20T14:06:52.761383Z",
     "shell.execute_reply": "2022-04-20T14:06:52.758965Z"
    },
    "papermill": {
     "duration": 0.230531,
     "end_time": "2022-04-20T14:06:52.763767",
     "exception": false,
     "start_time": "2022-04-20T14:06:52.533236",
     "status": "completed"
    },
    "tags": []
   },
   "outputs": [
    {
     "name": "stderr",
     "output_type": "stream",
     "text": [
      "2022-04-20 14:06:52.613973: I tensorflow/core/common_runtime/process_util.cc:146] Creating new thread pool with default inter op setting: 2. Tune using inter_op_parallelism_threads for best performance.\n"
     ]
    }
   ],
   "source": [
    "#CNN model building\n",
    "\n",
    "cnn = models.Sequential([\n",
    "    #1st layer or Input layer\n",
    "    \n",
    "    layers.Conv2D(filters = 128, kernel_size = (3,3), activation = 'relu', input_shape = (128,128,3)),\n",
    "    #Pooling\n",
    "    layers.MaxPool2D((2,2)),\n",
    "   \n",
    "    \n",
    "    #2nd layer\n",
    "    \n",
    "    layers.Conv2D(filters = 32, kernel_size = (3,3), activation = 'relu'),\n",
    "    layers.MaxPool2D((2,2)),\n",
    "    \n",
    "    \n",
    "    \n",
    "    #3rd layer\n",
    "    \n",
    "    layers.Conv2D(filters = 64, kernel_size = (3,3), activation = 'relu'),\n",
    "    layers.MaxPool2D((2,2)),\n",
    "    \n",
    "    \n",
    "    #4th layer\n",
    "    \n",
    "    layers.Conv2D(filters = 64, kernel_size = (3,3), activation = 'relu'),\n",
    "    layers.MaxPool2D((2,2)),\n",
    "    \n",
    "    \n",
    "    #5th layer\n",
    "    \n",
    "    layers.Conv2D(filters = 128, kernel_size = (3,3), activation = 'relu'),\n",
    "    layers.MaxPool2D((2,2)),\n",
    "    \n",
    "    \n",
    "    \n",
    "    #Flattening\n",
    "    \n",
    "    layers.Flatten(),\n",
    "    \n",
    "    \n",
    "    #Last connection\n",
    "    \n",
    "    layers.Dense(512, activation = 'relu'),\n",
    "\n",
    "    \n",
    "    #For Binary Classification\n",
    "    \n",
    "    layers.Dense(1, activation = 'sigmoid')\n",
    "])"
   ]
  },
  {
   "cell_type": "code",
   "execution_count": 8,
   "id": "082b02e8",
   "metadata": {
    "execution": {
     "iopub.execute_input": "2022-04-20T14:06:52.808762Z",
     "iopub.status.busy": "2022-04-20T14:06:52.808497Z",
     "iopub.status.idle": "2022-04-20T14:06:52.824786Z",
     "shell.execute_reply": "2022-04-20T14:06:52.824035Z"
    },
    "papermill": {
     "duration": 0.041665,
     "end_time": "2022-04-20T14:06:52.827018",
     "exception": false,
     "start_time": "2022-04-20T14:06:52.785353",
     "status": "completed"
    },
    "tags": []
   },
   "outputs": [],
   "source": [
    "#compiling\n",
    "\n",
    "cnn.compile(\n",
    "    optimizer = 'adam',\n",
    "    loss = 'binary_crossentropy',\n",
    "    metrics = ['accuracy']\n",
    ")"
   ]
  },
  {
   "cell_type": "code",
   "execution_count": 9,
   "id": "e6c0953f",
   "metadata": {
    "execution": {
     "iopub.execute_input": "2022-04-20T14:06:52.872273Z",
     "iopub.status.busy": "2022-04-20T14:06:52.871975Z",
     "iopub.status.idle": "2022-04-20T14:08:26.608477Z",
     "shell.execute_reply": "2022-04-20T14:08:26.607668Z"
    },
    "papermill": {
     "duration": 93.763025,
     "end_time": "2022-04-20T14:08:26.611021",
     "exception": false,
     "start_time": "2022-04-20T14:06:52.847996",
     "status": "completed"
    },
    "tags": []
   },
   "outputs": [
    {
     "name": "stderr",
     "output_type": "stream",
     "text": [
      "2022-04-20 14:06:53.089818: I tensorflow/compiler/mlir/mlir_graph_optimization_pass.cc:185] None of the MLIR Optimization Passes are enabled (registered 2)\n"
     ]
    },
    {
     "name": "stdout",
     "output_type": "stream",
     "text": [
      "Epoch 1/12\n",
      "13/13 [==============================] - 9s 581ms/step - loss: 0.7057 - accuracy: 0.4663\n",
      "Epoch 2/12\n",
      "13/13 [==============================] - 8s 580ms/step - loss: 0.6913 - accuracy: 0.5288\n",
      "Epoch 3/12\n",
      "13/13 [==============================] - 8s 579ms/step - loss: 0.6722 - accuracy: 0.5288\n",
      "Epoch 4/12\n",
      "13/13 [==============================] - 8s 594ms/step - loss: 0.4578 - accuracy: 0.7788\n",
      "Epoch 5/12\n",
      "13/13 [==============================] - 8s 595ms/step - loss: 0.3345 - accuracy: 0.9014\n",
      "Epoch 6/12\n",
      "13/13 [==============================] - 7s 573ms/step - loss: 0.2277 - accuracy: 0.9375\n",
      "Epoch 7/12\n",
      "13/13 [==============================] - 8s 576ms/step - loss: 0.3188 - accuracy: 0.8774\n",
      "Epoch 8/12\n",
      "13/13 [==============================] - 8s 583ms/step - loss: 0.1926 - accuracy: 0.9543\n",
      "Epoch 9/12\n",
      "13/13 [==============================] - 8s 626ms/step - loss: 0.3873 - accuracy: 0.8462\n",
      "Epoch 10/12\n",
      "13/13 [==============================] - 8s 594ms/step - loss: 0.1773 - accuracy: 0.9736\n",
      "Epoch 11/12\n",
      "13/13 [==============================] - 8s 592ms/step - loss: 0.1834 - accuracy: 0.9471\n",
      "Epoch 12/12\n",
      "13/13 [==============================] - 8s 598ms/step - loss: 0.1450 - accuracy: 0.9567\n"
     ]
    }
   ],
   "source": [
    "#Fitting model\n",
    "history = cnn.fit(x_train,\n",
    "        y_train,\n",
    "        epochs = 12)"
   ]
  },
  {
   "cell_type": "code",
   "execution_count": 10,
   "id": "f8fc8271",
   "metadata": {
    "execution": {
     "iopub.execute_input": "2022-04-20T14:08:26.791296Z",
     "iopub.status.busy": "2022-04-20T14:08:26.790671Z",
     "iopub.status.idle": "2022-04-20T14:08:26.804027Z",
     "shell.execute_reply": "2022-04-20T14:08:26.802530Z"
    },
    "papermill": {
     "duration": 0.110391,
     "end_time": "2022-04-20T14:08:26.807996",
     "exception": false,
     "start_time": "2022-04-20T14:08:26.697605",
     "status": "completed"
    },
    "tags": []
   },
   "outputs": [
    {
     "name": "stdout",
     "output_type": "stream",
     "text": [
      "Model: \"sequential\"\n",
      "_________________________________________________________________\n",
      "Layer (type)                 Output Shape              Param #   \n",
      "=================================================================\n",
      "conv2d (Conv2D)              (None, 126, 126, 128)     3584      \n",
      "_________________________________________________________________\n",
      "max_pooling2d (MaxPooling2D) (None, 63, 63, 128)       0         \n",
      "_________________________________________________________________\n",
      "conv2d_1 (Conv2D)            (None, 61, 61, 32)        36896     \n",
      "_________________________________________________________________\n",
      "max_pooling2d_1 (MaxPooling2 (None, 30, 30, 32)        0         \n",
      "_________________________________________________________________\n",
      "conv2d_2 (Conv2D)            (None, 28, 28, 64)        18496     \n",
      "_________________________________________________________________\n",
      "max_pooling2d_2 (MaxPooling2 (None, 14, 14, 64)        0         \n",
      "_________________________________________________________________\n",
      "conv2d_3 (Conv2D)            (None, 12, 12, 64)        36928     \n",
      "_________________________________________________________________\n",
      "max_pooling2d_3 (MaxPooling2 (None, 6, 6, 64)          0         \n",
      "_________________________________________________________________\n",
      "conv2d_4 (Conv2D)            (None, 4, 4, 128)         73856     \n",
      "_________________________________________________________________\n",
      "max_pooling2d_4 (MaxPooling2 (None, 2, 2, 128)         0         \n",
      "_________________________________________________________________\n",
      "flatten (Flatten)            (None, 512)               0         \n",
      "_________________________________________________________________\n",
      "dense (Dense)                (None, 512)               262656    \n",
      "_________________________________________________________________\n",
      "dense_1 (Dense)              (None, 1)                 513       \n",
      "=================================================================\n",
      "Total params: 432,929\n",
      "Trainable params: 432,929\n",
      "Non-trainable params: 0\n",
      "_________________________________________________________________\n"
     ]
    }
   ],
   "source": [
    "cnn.summary()"
   ]
  },
  {
   "cell_type": "code",
   "execution_count": 11,
   "id": "a0babd54",
   "metadata": {
    "execution": {
     "iopub.execute_input": "2022-04-20T14:08:26.986466Z",
     "iopub.status.busy": "2022-04-20T14:08:26.986157Z",
     "iopub.status.idle": "2022-04-20T14:08:27.049343Z",
     "shell.execute_reply": "2022-04-20T14:08:27.048010Z"
    },
    "papermill": {
     "duration": 0.155447,
     "end_time": "2022-04-20T14:08:27.052606",
     "exception": false,
     "start_time": "2022-04-20T14:08:26.897159",
     "status": "completed"
    },
    "tags": []
   },
   "outputs": [
    {
     "name": "stdout",
     "output_type": "stream",
     "text": [
      "Saved model to disk\n"
     ]
    }
   ],
   "source": [
    "#Write model to drive\n",
    "cnn.save(\"cnn_model.h5\")\n",
    "print(\"Saved model to disk\")"
   ]
  },
  {
   "cell_type": "code",
   "execution_count": 12,
   "id": "1dd6a90b",
   "metadata": {
    "execution": {
     "iopub.execute_input": "2022-04-20T14:08:27.232914Z",
     "iopub.status.busy": "2022-04-20T14:08:27.232618Z",
     "iopub.status.idle": "2022-04-20T14:08:27.404829Z",
     "shell.execute_reply": "2022-04-20T14:08:27.403610Z"
    },
    "papermill": {
     "duration": 0.266264,
     "end_time": "2022-04-20T14:08:27.407653",
     "exception": false,
     "start_time": "2022-04-20T14:08:27.141389",
     "status": "completed"
    },
    "tags": []
   },
   "outputs": [],
   "source": [
    "# load model\n",
    "model = load_model('cnn_model.h5')"
   ]
  },
  {
   "cell_type": "code",
   "execution_count": 13,
   "id": "8976169b",
   "metadata": {
    "execution": {
     "iopub.execute_input": "2022-04-20T14:08:27.600799Z",
     "iopub.status.busy": "2022-04-20T14:08:27.600497Z",
     "iopub.status.idle": "2022-04-20T14:08:28.426386Z",
     "shell.execute_reply": "2022-04-20T14:08:28.425540Z"
    },
    "papermill": {
     "duration": 0.918109,
     "end_time": "2022-04-20T14:08:28.428697",
     "exception": false,
     "start_time": "2022-04-20T14:08:27.510588",
     "status": "completed"
    },
    "tags": []
   },
   "outputs": [],
   "source": [
    "#Reshape test dataset\n",
    "\n",
    "\n",
    "#Prediction\n",
    "test_prediction = model.predict(x_test)\n",
    "\n",
    "#test_prediction\n",
    "#test_labels.size\n",
    "#x_train.shape\n",
    "\n",
    "#inverse le transform to get original label back\n",
    "\n",
    "#test_pre = le.inverse_transform(test_prediction)\n"
   ]
  },
  {
   "cell_type": "code",
   "execution_count": 14,
   "id": "8ba4b38c",
   "metadata": {
    "execution": {
     "iopub.execute_input": "2022-04-20T14:08:28.611524Z",
     "iopub.status.busy": "2022-04-20T14:08:28.610943Z",
     "iopub.status.idle": "2022-04-20T14:08:28.615619Z",
     "shell.execute_reply": "2022-04-20T14:08:28.615000Z"
    },
    "papermill": {
     "duration": 0.099436,
     "end_time": "2022-04-20T14:08:28.617806",
     "exception": false,
     "start_time": "2022-04-20T14:08:28.518370",
     "status": "completed"
    },
    "tags": []
   },
   "outputs": [],
   "source": [
    "test_pre = []\n",
    "for i in test_prediction:\n",
    "    if(i >= 0.5):\n",
    "        test_pre.append(1)\n",
    "    else:\n",
    "        test_pre.append(0)\n",
    "#test_pre        \n",
    "\n"
   ]
  },
  {
   "cell_type": "code",
   "execution_count": 15,
   "id": "3ae0e2a0",
   "metadata": {
    "execution": {
     "iopub.execute_input": "2022-04-20T14:08:28.796038Z",
     "iopub.status.busy": "2022-04-20T14:08:28.795501Z",
     "iopub.status.idle": "2022-04-20T14:08:28.803724Z",
     "shell.execute_reply": "2022-04-20T14:08:28.803167Z"
    },
    "papermill": {
     "duration": 0.098652,
     "end_time": "2022-04-20T14:08:28.805681",
     "exception": false,
     "start_time": "2022-04-20T14:08:28.707029",
     "status": "completed"
    },
    "tags": []
   },
   "outputs": [
    {
     "data": {
      "text/plain": [
       "array(['Uninfected', 'Uninfected', 'Uninfected', 'Uninfected',\n",
       "       'Uninfected', 'Uninfected', 'Uninfected', 'Parasite', 'Uninfected',\n",
       "       'Uninfected', 'Uninfected', 'Uninfected', 'Uninfected',\n",
       "       'Uninfected', 'Uninfected', 'Uninfected', 'Uninfected',\n",
       "       'Uninfected', 'Uninfected', 'Uninfected', 'Uninfected',\n",
       "       'Uninfected', 'Uninfected', 'Uninfected', 'Uninfected',\n",
       "       'Uninfected', 'Uninfected', 'Uninfected', 'Uninfected',\n",
       "       'Uninfected', 'Uninfected', 'Uninfected', 'Uninfected',\n",
       "       'Uninfected', 'Uninfected', 'Uninfected', 'Uninfected',\n",
       "       'Uninfected', 'Uninfected', 'Uninfected', 'Uninfected',\n",
       "       'Uninfected', 'Uninfected', 'Parasite', 'Parasite', 'Uninfected',\n",
       "       'Parasite', 'Parasite', 'Parasite', 'Parasite', 'Parasite',\n",
       "       'Parasite', 'Parasite', 'Parasite', 'Parasite', 'Uninfected',\n",
       "       'Parasite', 'Parasite', 'Parasite', 'Parasite', 'Parasite',\n",
       "       'Parasite', 'Parasite', 'Parasite', 'Parasite', 'Parasite',\n",
       "       'Parasite', 'Parasite', 'Parasite', 'Parasite', 'Uninfected',\n",
       "       'Parasite', 'Parasite', 'Parasite', 'Parasite', 'Parasite',\n",
       "       'Parasite', 'Parasite', 'Parasite', 'Parasite', 'Parasite',\n",
       "       'Parasite', 'Parasite', 'Parasite', 'Parasite', 'Parasite',\n",
       "       'Parasite', 'Parasite', 'Parasite', 'Parasite', 'Parasite',\n",
       "       'Parasite', 'Parasite', 'Parasite', 'Parasite', 'Parasite',\n",
       "       'Parasite', 'Parasite', 'Parasite', 'Parasite', 'Parasite',\n",
       "       'Parasite', 'Parasite', 'Parasite', 'Parasite', 'Parasite',\n",
       "       'Parasite', 'Parasite', 'Parasite', 'Parasite', 'Uninfected',\n",
       "       'Parasite', 'Parasite', 'Parasite', 'Parasite', 'Parasite',\n",
       "       'Uninfected', 'Parasite', 'Parasite', 'Parasite', 'Parasite',\n",
       "       'Parasite', 'Parasite', 'Parasite', 'Parasite', 'Parasite',\n",
       "       'Parasite', 'Parasite', 'Parasite', 'Parasite', 'Parasite',\n",
       "       'Parasite', 'Uninfected', 'Parasite'], dtype='<U10')"
      ]
     },
     "execution_count": 15,
     "metadata": {},
     "output_type": "execute_result"
    }
   ],
   "source": [
    "test = le.inverse_transform(test_pre)\n",
    "test"
   ]
  },
  {
   "cell_type": "code",
   "execution_count": 16,
   "id": "7262b434",
   "metadata": {
    "execution": {
     "iopub.execute_input": "2022-04-20T14:08:28.993628Z",
     "iopub.status.busy": "2022-04-20T14:08:28.993107Z",
     "iopub.status.idle": "2022-04-20T14:08:29.944400Z",
     "shell.execute_reply": "2022-04-20T14:08:29.942950Z"
    },
    "papermill": {
     "duration": 1.047358,
     "end_time": "2022-04-20T14:08:29.947210",
     "exception": false,
     "start_time": "2022-04-20T14:08:28.899852",
     "status": "completed"
    },
    "tags": []
   },
   "outputs": [
    {
     "name": "stdout",
     "output_type": "stream",
     "text": [
      "5/5 [==============================] - 1s 122ms/step - loss: 0.1466 - accuracy: 0.9478\n",
      "Accuracy:  [0.1466144174337387, 0.9477611780166626]\n"
     ]
    }
   ],
   "source": [
    "accuracy = model.evaluate(x_test,y_test)\n",
    "print(\"Accuracy: \",accuracy)\n",
    "#Accuracy:  [0.12909041345119476, 0.9477611780166626]"
   ]
  },
  {
   "cell_type": "code",
   "execution_count": 17,
   "id": "d3c5e79d",
   "metadata": {
    "execution": {
     "iopub.execute_input": "2022-04-20T14:08:30.135529Z",
     "iopub.status.busy": "2022-04-20T14:08:30.135240Z",
     "iopub.status.idle": "2022-04-20T14:08:30.201248Z",
     "shell.execute_reply": "2022-04-20T14:08:30.199920Z"
    },
    "papermill": {
     "duration": 0.165003,
     "end_time": "2022-04-20T14:08:30.203722",
     "exception": false,
     "start_time": "2022-04-20T14:08:30.038719",
     "status": "completed"
    },
    "tags": []
   },
   "outputs": [
    {
     "name": "stdout",
     "output_type": "stream",
     "text": [
      "Accuracy =  0.9477611940298507\n"
     ]
    }
   ],
   "source": [
    "#print overall accuracy\n",
    "\n",
    "from sklearn import metrics\n",
    "print(\"Accuracy = \",metrics.accuracy_score(test_labels,test))\n",
    "#Accuracy =  0.9477611940298507"
   ]
  },
  {
   "cell_type": "code",
   "execution_count": 18,
   "id": "893ccd52",
   "metadata": {
    "execution": {
     "iopub.execute_input": "2022-04-20T14:08:30.390187Z",
     "iopub.status.busy": "2022-04-20T14:08:30.388849Z",
     "iopub.status.idle": "2022-04-20T14:08:30.794499Z",
     "shell.execute_reply": "2022-04-20T14:08:30.793132Z"
    },
    "papermill": {
     "duration": 0.501441,
     "end_time": "2022-04-20T14:08:30.797649",
     "exception": false,
     "start_time": "2022-04-20T14:08:30.296208",
     "status": "completed"
    },
    "tags": []
   },
   "outputs": [
    {
     "name": "stdout",
     "output_type": "stream",
     "text": [
      "The prediction for this image is :  ['Parasite']\n",
      "The actual label for this image is :  Parasite\n"
     ]
    },
    {
     "data": {
      "image/png": "[encoded data removed]",
      "text/plain": [
       "<Figure size 432x288 with 1 Axes>"
      ]
     },
     "metadata": {
      "needs_background": "light"
     },
     "output_type": "display_data"
    }
   ],
   "source": [
    "import random\n",
    "n = random.randint(0,x_test.shape[0]-1)\n",
    "img = x_test[n]\n",
    "plt.imshow(img);\n",
    "\n",
    "#predict\n",
    "\n",
    "input_img = np.expand_dims(img,axis = 0)\n",
    "# img_new = np.reshape(img,(input_img.shape[0],-1))\n",
    "img_prediction = model.predict(input_img)\n",
    "if(img_prediction >= 0.5):\n",
    "    img_prediction = 1\n",
    "else:\n",
    "    img_prediction = 0\n",
    "img_prediction = le.inverse_transform([img_prediction])\n",
    "print(\"The prediction for this image is : \", img_prediction)\n",
    "print(\"The actual label for this image is : \", test_labels[n])"
   ]
  },
  {
   "cell_type": "code",
   "execution_count": null,
   "id": "0e6055be",
   "metadata": {
    "papermill": {
     "duration": 0.094239,
     "end_time": "2022-04-20T14:08:30.991675",
     "exception": false,
     "start_time": "2022-04-20T14:08:30.897436",
     "status": "completed"
    },
    "tags": []
   },
   "outputs": [],
   "source": []
  }
 ],
 "metadata": {
  "kernelspec": {
   "display_name": "Python 3",
   "language": "python",
   "name": "python3"
  },
  "language_info": {
   "codemirror_mode": {
    "name": "ipython",
    "version": 3
   },
   "file_extension": ".py",
   "mimetype": "text/x-python",
   "name": "python",
   "nbconvert_exporter": "python",
   "pygments_lexer": "ipython3",
   "version": "3.7.12"
  },
  "papermill": {
   "default_parameters": {},
   "duration": 125.762238,
   "end_time": "2022-04-20T14:08:34.297924",
   "environment_variables": {},
   "exception": null,
   "input_path": "__notebook__.ipynb",
   "output_path": "__notebook__.ipynb",
   "parameters": {},
   "start_time": "2022-04-20T14:06:28.535686",
   "version": "2.3.4"
  }
 },
 "nbformat": 4,
 "nbformat_minor": 5
}
